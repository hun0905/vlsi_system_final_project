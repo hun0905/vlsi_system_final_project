{
 "cells": [
  {
   "cell_type": "code",
   "execution_count": 83,
   "metadata": {},
   "outputs": [
    {
     "name": "stdout",
     "output_type": "stream",
     "text": [
      "Final selected pattern (9):  7, 16, 26, 2, 36, 5, 22, 35, 38\n",
      "Total detected %:  91.24\n",
      "Final selected pattern (14):  16, 1, 21, 8, 7, 34, 26, 10, 4, 38, 0, 5, 36, 24\n",
      "Total detected %:  90.24\n"
     ]
    },
    {
     "data": {
      "text/plain": [
       "['16', '1', '21', '8', '7', '34', '26', '10', '4', '38', '0', '5', '36', '24']"
      ]
     },
     "execution_count": 83,
     "metadata": {},
     "output_type": "execute_result"
    }
   ],
   "source": [
    "import os\n",
    "import random\n",
    "\n",
    "def get_p2f_and_f2p(fold_Path):\n",
    "    f2p = {}\n",
    "    p2f = {}\n",
    "    p2f_num = {}\n",
    "    file_names = os.listdir(fold_Path)\n",
    "    for i,file_name in enumerate(file_names):\n",
    "        path = f'{fold_Path}/{file_name}'\n",
    "        file = open(path, 'r')\n",
    "        lines = file.read().split('\\n')\n",
    "        for line in lines:\n",
    "            if line not in f2p:\n",
    "                f2p[line] = []\n",
    "            f2p[line].append(i)\n",
    "            if i not in p2f:\n",
    "                p2f[i] = []\n",
    "            p2f[i].append(line)\n",
    "            p2f_num[i] = len(p2f[i])\n",
    "        file.close()\n",
    "    return p2f,f2p,p2f_num\n",
    "def get_max(p2f, p2f_num, f2p):\n",
    "    key = max(p2f_num, key=p2f_num.get)\n",
    "    fault_num = p2f_num[key]\n",
    "    # print(len(p2f[key]))\n",
    "    for f in p2f[key]:\n",
    "        f2p[f].remove(key)\n",
    "        for p in f2p[f]:\n",
    "            p2f[p].remove(f)\n",
    "            p2f_num[p] -=1\n",
    "    p2f.pop(key)\n",
    "    p2f_num.pop(key)\n",
    "    return fault_num,key\n",
    "def get_random(p2f, p2f_num, f2p):\n",
    "    key = random.choice(list(p2f.keys()))\n",
    "    fault_num = p2f_num[key]\n",
    "    # print(len(p2f[key]))\n",
    "    for f in p2f[key]:\n",
    "        f2p[f].remove(key)\n",
    "        for p in f2p[f]:\n",
    "            p2f[p].remove(f)\n",
    "            p2f_num[p] -=1\n",
    "    p2f.pop(key)\n",
    "    p2f_num.pop(key)\n",
    "    return fault_num,key\n",
    "\n",
    "def get_pattern_idx_greedy(flist_path,target_value=0.7):\n",
    "    total = 0\n",
    "    file = open(flist_path, 'r')\n",
    "    total = len(file.readlines())\n",
    "    target = total * target_value\n",
    "    detected_now = 0\n",
    "    selected = []\n",
    "    p2f, f2p, p2f_num = get_p2f_and_f2p('./faults_dt')\n",
    "    while detected_now < target:\n",
    "        detected, key = get_max(p2f, p2f_num, f2p)\n",
    "        detected_now += detected\n",
    "        selected.append(str(key))\n",
    "    print(f'Final selected pattern ({len(selected)}): ',', '.join(selected))\n",
    "    print('Total detected %: ',round(detected_now/total*100,2))\n",
    "    return selected\n",
    "def get_pattern_idx_random(flist_path,target_value=0.7):\n",
    "    total = 0\n",
    "    file = open(flist_path, 'r')\n",
    "    total = len(file.readlines())\n",
    "    target = total * target_value\n",
    "    detected_now = 0\n",
    "    selected = []\n",
    "    p2f, f2p, p2f_num = get_p2f_and_f2p('./faults_dt')\n",
    "    while detected_now < target:\n",
    "        detected, key = get_random(p2f, p2f_num, f2p)\n",
    "        detected_now += detected\n",
    "        selected.append(str(key))\n",
    "    print(f'Final selected pattern ({len(selected)}): ',', '.join(selected))\n",
    "    print('Total detected %: ',round(detected_now/total*100,2))\n",
    "    return selected\n",
    "get_pattern_idx_greedy('./s400_stuck_full.fault',target_value=0.9)\n",
    "get_pattern_idx_random('./s400_stuck_full.fault',target_value=0.9)"
   ]
  },
  {
   "cell_type": "code",
   "execution_count": 82,
   "metadata": {},
   "outputs": [
    {
     "name": "stdout",
     "output_type": "stream",
     "text": [
      "['0', '2', '5', '7', '10', '14', '16', '19', '20', '21', '25', '27', '29']\n",
      "Final selected pattern (13):  0, 2, 5, 7, 10, 14, 16, 19, 20, 21, 25, 27, 29\n",
      "Total detected %:  90.24\n"
     ]
    }
   ],
   "source": [
    "\n",
    "def get_min(p2f, p2f_num, f2p):\n",
    "    # print(p2f_num)\n",
    "    key = min(p2f_num, key=p2f_num.get)\n",
    "    detected_rm = 0\n",
    "    for f in p2f[key]:\n",
    "        f2p[f].remove(key)\n",
    "        if len(f2p[f]) == 0:\n",
    "            detected_rm +=1\n",
    "            for p in f2p[f]:\n",
    "                p2f[p].remove(f)\n",
    "                p2f_num[p] -=1\n",
    "            f2p.pop(f)\n",
    "    p2f.pop(key)\n",
    "    p2f_num.pop(key)\n",
    "    return detected_rm,key\n",
    "def get_pattern_idx_greedy2(flist_path,target_value=0.7):\n",
    "    total = 0\n",
    "    file = open(flist_path, 'r')\n",
    "    total = len(file.readlines())\n",
    "    target = total * target_value\n",
    "    detected_now = total\n",
    "    selected = []\n",
    "    p2f, f2p, p2f_num = get_p2f_and_f2p('./faults_dt')\n",
    "    all_patterns = list(map(str, list(p2f.keys())))\n",
    "    \n",
    "    while detected_now > target:\n",
    "        detected_rm, key = get_min(p2f, p2f_num, f2p)\n",
    "        final_detected = detected_now\n",
    "        detected_now -= detected_rm\n",
    "        final_select = key\n",
    "        selected.append(str(key))\n",
    "    selected.remove(str(final_select))\n",
    "    detected_now = final_detected\n",
    "    # print(all_patterns)\n",
    "    # print(selected)\n",
    "    selected = [p for p in all_patterns if p not in selected]\n",
    "    print(selected)\n",
    "    print(f'Final selected pattern ({len(selected)}): ',', '.join(selected))\n",
    "    print('Total detected %: ',round(detected_now/total*100,2))\n",
    "    return selected\n",
    "selected = get_pattern_idx_greedy2('./s400_stuck_full.fault',target_value=0.9)\n"
   ]
  },
  {
   "cell_type": "code",
   "execution_count": 104,
   "metadata": {},
   "outputs": [],
   "source": [
    "p2f, f2p, p2f_num = get_p2f_and_f2p('./faults_dt')\n",
    "def remove_min_n_faults(f2p,p2f,p2f_num,n):\n",
    "    f2p_num = [(len(v),k) for k,v in f2p.items()]\n",
    "    min_n_faults = [f for n, f in sorted(f2p_num, key=lambda x: x[0])[:n]]\n",
    "    for f in min_n_faults:\n",
    "        for p in f2p[f]:\n",
    "            p2f[p].remove(f)\n",
    "            p2f_num[p] -=1\n",
    "    \n"
   ]
  },
  {
   "cell_type": "code",
   "execution_count": 2,
   "metadata": {},
   "outputs": [
    {
     "data": {
      "text/plain": [
       "5191284097878.626"
      ]
     },
     "execution_count": 2,
     "metadata": {},
     "output_type": "execute_result"
    }
   ],
   "source": [
    "471876.5*843501/1.76*22.9548"
   ]
  }
 ],
 "metadata": {
  "kernelspec": {
   "display_name": "Python 3",
   "language": "python",
   "name": "python3"
  },
  "language_info": {
   "codemirror_mode": {
    "name": "ipython",
    "version": 3
   },
   "file_extension": ".py",
   "mimetype": "text/x-python",
   "name": "python",
   "nbconvert_exporter": "python",
   "pygments_lexer": "ipython3",
   "version": "3.10.4"
  },
  "orig_nbformat": 4
 },
 "nbformat": 4,
 "nbformat_minor": 2
}
